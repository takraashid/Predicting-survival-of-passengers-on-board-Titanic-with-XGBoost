{
 "cells": [
  {
   "cell_type": "markdown",
   "metadata": {},
   "source": [
    "# XGBoost Classifier\n",
    "\n",
    "Prediction of survival of passengers using Titanic dataset\n",
    "<br>\n",
    "There are only a few things to be noticed here.\n",
    "* XGBoost takes only integer data. Thus we one-hot-encode all the non-integer data types. \n",
    "* XGBoost can't take null values. Thus we Impute the missing data"
   ]
  },
  {
   "cell_type": "code",
   "execution_count": 1,
   "metadata": {},
   "outputs": [],
   "source": [
    "import pandas as pd\n",
    "import numpy as np\n",
    "from xgboost import XGBClassifier\n",
    "import seaborn as sns\n",
    "import matplotlib.pyplot as plt\n",
    "%matplotlib inline"
   ]
  },
  {
   "cell_type": "code",
   "execution_count": 2,
   "metadata": {},
   "outputs": [],
   "source": [
    "train_data = pd.read_csv('train.csv')\n",
    "test_data = pd.read_csv('test.csv')"
   ]
  },
  {
   "cell_type": "code",
   "execution_count": 370,
   "metadata": {},
   "outputs": [
    {
     "data": {
      "text/plain": [
       "PassengerId    False\n",
       "Survived       False\n",
       "Pclass         False\n",
       "Name           False\n",
       "Sex            False\n",
       "Age             True\n",
       "SibSp          False\n",
       "Parch          False\n",
       "Ticket         False\n",
       "Fare           False\n",
       "Cabin           True\n",
       "Embarked        True\n",
       "dtype: bool"
      ]
     },
     "execution_count": 370,
     "metadata": {},
     "output_type": "execute_result"
    }
   ],
   "source": [
    "train_data.isnull().any()"
   ]
  },
  {
   "cell_type": "code",
   "execution_count": 3,
   "metadata": {},
   "outputs": [],
   "source": [
    "y=train_data.Survived\n",
    "X=train_data.drop(['PassengerId', 'Survived'], axis=1)"
   ]
  },
  {
   "cell_type": "code",
   "execution_count": 4,
   "metadata": {},
   "outputs": [],
   "source": [
    "num_cols = [col for col in X.columns if\n",
    "           train_data[col].dtypes in ['int64', 'float64']]\n",
    "cat_cols = [col for col in X.columns if \n",
    "           train_data[col].dtypes == 'object']"
   ]
  },
  {
   "cell_type": "code",
   "execution_count": 5,
   "metadata": {},
   "outputs": [],
   "source": [
    "nX = X[num_cols]\n",
    "cX = X[cat_cols]\n",
    "from sklearn.preprocessing import Imputer\n",
    "my_imputer=Imputer()\n",
    "X_imputed = pd.DataFrame(my_imputer.fit_transform(nX))\n",
    "X_imputed.columns = nX.columns"
   ]
  },
  {
   "cell_type": "code",
   "execution_count": 6,
   "metadata": {},
   "outputs": [],
   "source": [
    "ohe_cX = pd.get_dummies(cX)"
   ]
  },
  {
   "cell_type": "code",
   "execution_count": 7,
   "metadata": {},
   "outputs": [],
   "source": [
    "final_train = X_imputed.merge(ohe_cX, right_index=True, left_index=True)"
   ]
  },
  {
   "cell_type": "code",
   "execution_count": 8,
   "metadata": {},
   "outputs": [],
   "source": [
    "from sklearn.model_selection import train_test_split\n",
    "from sklearn.model_selection import cross_val_score\n",
    "#score = cross_val_score(XGBClassifier(min_child_weight = 7.5, max_depth=5, n_estimator=700, eta=0.3), final_train1, y, scoring='accuracy')\n",
    "#print(score.mean())"
   ]
  },
  {
   "cell_type": "code",
   "execution_count": 26,
   "metadata": {},
   "outputs": [
    {
     "name": "stdout",
     "output_type": "stream",
     "text": [
      "[[135  25]\n",
      " [ 11  52]]\n"
     ]
    },
    {
     "name": "stderr",
     "output_type": "stream",
     "text": [
      "F:\\Anaconda\\lib\\site-packages\\sklearn\\preprocessing\\label.py:151: DeprecationWarning: The truth value of an empty array is ambiguous. Returning False, but in future this will result in an error. Use `array.size > 0` to check that an array is not empty.\n",
      "  if diff:\n"
     ]
    }
   ],
   "source": [
    "from sklearn.metrics import confusion_matrix\n",
    "train_X, test_X, train_y, test_y = train_test_split(final_train, y)\n",
    "model=XGBClassifier(n_estimator=900, learning_rate=0.2, min_child_weight=7)\n",
    "model.fit(train_X, train_y, early_stopping_rounds=5, eval_set=[(test_X, test_y)], verbose=False)\n",
    "prediction = model.predict(test_X)\n",
    "#from sklearn.metrics import accuracy_score\n",
    "#mae = accuracy_score(prediction, test_y)\n",
    "#print(mae)\n",
    "print(confusion_matrix(prediction, test_y))    "
   ]
  },
  {
   "cell_type": "code",
   "execution_count": 28,
   "metadata": {},
   "outputs": [
    {
     "data": {
      "text/plain": [
       "array([[0.77621543, 0.22378454],\n",
       "       [0.595224  , 0.404776  ],\n",
       "       [0.77621543, 0.22378454],\n",
       "       [0.17660958, 0.8233904 ],\n",
       "       [0.77621543, 0.22378454],\n",
       "       [0.77621543, 0.22378454],\n",
       "       [0.6569369 , 0.34306312],\n",
       "       [0.17660958, 0.8233904 ],\n",
       "       [0.77621543, 0.22378454],\n",
       "       [0.77621543, 0.22378454]], dtype=float32)"
      ]
     },
     "execution_count": 28,
     "metadata": {},
     "output_type": "execute_result"
    }
   ],
   "source": [
    "model.predict_proba(test_X)[0:10]"
   ]
  },
  {
   "cell_type": "code",
   "execution_count": 388,
   "metadata": {},
   "outputs": [],
   "source": [
    "test_data1=test_data.drop(['PassengerId'], axis=1)\n",
    "ntest = test_data1[num_cols]\n",
    "ctest=test_data1[cat_cols]"
   ]
  },
  {
   "cell_type": "code",
   "execution_count": 389,
   "metadata": {},
   "outputs": [],
   "source": [
    "imputed_test = pd.DataFrame(my_imputer.fit_transform(ntest))\n",
    "imputed_test.columns = ntest.columns\n",
    "ohe_ctest = pd.get_dummies(ctest)\n",
    "final_test = imputed_test.merge(ohe_ctest, right_index=True, left_index=True)"
   ]
  },
  {
   "cell_type": "code",
   "execution_count": 394,
   "metadata": {},
   "outputs": [
    {
     "name": "stdout",
     "output_type": "stream",
     "text": [
      "(891, 2432)\n",
      "(418, 2432)\n"
     ]
    }
   ],
   "source": [
    "print(final_train1.shape)\n",
    "print(final_test1.shape)"
   ]
  },
  {
   "cell_type": "code",
   "execution_count": 393,
   "metadata": {},
   "outputs": [],
   "source": [
    "final_train1, final_test1 = final_train.align(final_test, join='outer', axis=1)"
   ]
  },
  {
   "cell_type": "code",
   "execution_count": 458,
   "metadata": {},
   "outputs": [
    {
     "name": "stderr",
     "output_type": "stream",
     "text": [
      "F:\\Anaconda\\lib\\site-packages\\sklearn\\preprocessing\\label.py:151: DeprecationWarning: The truth value of an empty array is ambiguous. Returning False, but in future this will result in an error. Use `array.size > 0` to check that an array is not empty.\n",
      "  if diff:\n"
     ]
    }
   ],
   "source": [
    "model= XGBClassifier(n_estimator=900, eta=0.05)\n",
    "model.fit(final_train1, y)\n",
    "prediction=model.predict(final_test1)\n"
   ]
  },
  {
   "cell_type": "code",
   "execution_count": 299,
   "metadata": {},
   "outputs": [
    {
     "data": {
      "text/plain": [
       "Index(['Pclass', 'Name', 'Sex', 'Age', 'SibSp', 'Parch', 'Ticket', 'Fare',\n",
       "       'Cabin', 'Embarked'],\n",
       "      dtype='object')"
      ]
     },
     "execution_count": 299,
     "metadata": {},
     "output_type": "execute_result"
    }
   ],
   "source": [
    "test_data.columns"
   ]
  },
  {
   "cell_type": "code",
   "execution_count": 470,
   "metadata": {},
   "outputs": [],
   "source": [
    "submission=pd.DataFrame({'PassengerId':test_data.PassengerId, 'Survived':prediction})"
   ]
  },
  {
   "cell_type": "code",
   "execution_count": 471,
   "metadata": {},
   "outputs": [],
   "source": [
    "submission.to_csv('Predict.csv', index=False)"
   ]
  }
 ],
 "metadata": {
  "kernelspec": {
   "display_name": "Python 3",
   "language": "python",
   "name": "python3"
  },
  "language_info": {
   "codemirror_mode": {
    "name": "ipython",
    "version": 3
   },
   "file_extension": ".py",
   "mimetype": "text/x-python",
   "name": "python",
   "nbconvert_exporter": "python",
   "pygments_lexer": "ipython3",
   "version": "3.6.5"
  }
 },
 "nbformat": 4,
 "nbformat_minor": 2
}
